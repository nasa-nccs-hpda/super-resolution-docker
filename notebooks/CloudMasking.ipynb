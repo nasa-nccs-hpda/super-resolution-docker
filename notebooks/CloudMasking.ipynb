{
 "cells": [
  {
   "cell_type": "markdown",
   "id": "7968ef68-7292-41ec-9281-df036c4618f1",
   "metadata": {},
   "source": [
    "# VHR Cloud Masking Demo Notebook\n",
    "\n",
    "The following notebook is used to perform segmentation of clouds from WorldView imagery."
   ]
  },
  {
   "cell_type": "code",
   "execution_count": null,
   "id": "922f27ba-6f6f-4dbe-a6a5-4fd207326d1d",
   "metadata": {},
   "outputs": [],
   "source": [
    "# !pip install -U opencv-python opencv-contrib-python keras_unet_collection vhr-cloudmask"
   ]
  },
  {
   "cell_type": "markdown",
   "id": "a65ddfcb-65b1-470c-80d3-0eaf43672949",
   "metadata": {},
   "source": [
    "## Import Libraries"
   ]
  },
  {
   "cell_type": "code",
   "execution_count": null,
   "id": "f50ce0b9-7521-4dab-b918-1c7761de044d",
   "metadata": {},
   "outputs": [],
   "source": [
    "import leafmap\n",
    "from vhr_cloudmask.model.pipelines.cloudmask_cnn_pipeline import CloudMaskPipeline"
   ]
  },
  {
   "cell_type": "markdown",
   "id": "115df757-ecf5-4e9c-90e5-7ed620c6cd82",
   "metadata": {},
   "source": [
    "## Initialize Cloud Mask Pipeline"
   ]
  },
  {
   "cell_type": "code",
   "execution_count": null,
   "id": "aa104424-befb-49f5-90a3-eda0c9a1983d",
   "metadata": {},
   "outputs": [],
   "source": [
    "cloudmask_pipeline = CloudMaskPipeline(\n",
    "    output_dir='/explore/nobackup/projects/ilab/test/vhr-cloudmask',\n",
    "    inference_regex_list=['/explore/nobackup/projects/ilab/projects/Vietnam/Sarah/data/Keelin00_20120130_data.tif'],\n",
    "    input_bands=['B', 'G', 'R', 'N', 'G1', 'G2'],\n",
    "    output_bands=['B', 'G', 'R', 'N'],\n",
    "    postprocessing_steps=['sieve', 'smooth', 'fill', 'dilate']\n",
    ")"
   ]
  },
  {
   "cell_type": "markdown",
   "id": "b2b5b50e-f87f-4d22-ba3e-5d3dde219fa7",
   "metadata": {},
   "source": [
    "## Prediction Step"
   ]
  },
  {
   "cell_type": "code",
   "execution_count": null,
   "id": "90f66524-9496-4e5d-9283-abca389b6e82",
   "metadata": {},
   "outputs": [],
   "source": [
    "%%time\n",
    "cloudmask_pipeline.predict()"
   ]
  },
  {
   "cell_type": "markdown",
   "id": "d673d84b-cee5-4f0e-a83f-070dbc8eb245",
   "metadata": {},
   "source": [
    "## Visualize Output"
   ]
  },
  {
   "cell_type": "code",
   "execution_count": null,
   "id": "4a29ecac-2120-4fb6-bd1d-0adf56e9b77a",
   "metadata": {},
   "outputs": [],
   "source": [
    "m = leafmap.Map()\n",
    "m.split_map(\n",
    "    \"/explore/nobackup/projects/ilab/projects/Vietnam/Sarah/data/Keelin00_20120130_data.tif\",\n",
    "    \"/explore/nobackup/projects/ilab/test/vhr-cloudmask/data/Keelin00_20120130_data.cloudmask.tif\",\n",
    "    left_args={\"layer_name\": \"Raster\", \"bands\": [3, 4, 1]},\n",
    "    right_args={\"layer_name\": \"Clouds\"},\n",
    ")\n",
    "m"
   ]
  }
 ],
 "metadata": {
  "kernelspec": {
   "display_name": "ILAB Kernel (TensorFlow)",
   "language": "python",
   "name": "tensorflow-kernel"
  },
  "language_info": {
   "codemirror_mode": {
    "name": "ipython",
    "version": 3
   },
   "file_extension": ".py",
   "mimetype": "text/x-python",
   "name": "python",
   "nbconvert_exporter": "python",
   "pygments_lexer": "ipython3",
   "version": "3.8.16"
  }
 },
 "nbformat": 4,
 "nbformat_minor": 5
}
