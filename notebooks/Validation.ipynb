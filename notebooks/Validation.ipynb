{
 "cells": [
  {
   "cell_type": "code",
   "execution_count": 1,
   "id": "7059c8ac-c451-4d5e-8750-ea02a1ab3700",
   "metadata": {},
   "outputs": [],
   "source": [
    "import xarray as xr\n",
    "import numpy as np\n",
    "import cv2 as cv\n",
    "import rioxarray as rxr\n",
    "import matplotlib.pyplot as plt\n",
    "from scipy import ndimage, misc\n",
    "import rasterio.features as riofeat  # rasterio features include sieve filter\n",
    "import rasterio\n",
    "from glob import glob\n",
    "#plt.rcParams[\"figure.figsize\"] = (20,20)"
   ]
  },
  {
   "cell_type": "code",
   "execution_count": 2,
   "id": "9e5cf728-703a-49e5-b6ca-5403c32c7aad",
   "metadata": {},
   "outputs": [],
   "source": [
    "#data_filenames = glob('/adapt/nobackup/projects/ilab/projects/srlite/input/Siberia/*M1BS*.tif')\n",
    "#print(len(data_filenames))"
   ]
  },
  {
   "cell_type": "code",
   "execution_count": 3,
   "id": "72aef6cd-170b-4f08-94da-de695772e8f3",
   "metadata": {},
   "outputs": [],
   "source": [
    "#for imagef in data_filenames:\n",
    "#    print(imagef)\n",
    "#    data_values = rxr.open_rasterio(imagef).transpose(\"y\", \"x\", \"band\")\n",
    "#    plt.imshow(data_values[:, :, :3]/10000)\n",
    "#    plt.show()"
   ]
  },
  {
   "cell_type": "code",
   "execution_count": 4,
   "id": "6056c57e-0fce-4dc5-8791-5f442490b7bb",
   "metadata": {},
   "outputs": [],
   "source": [
    "#data_filename = '/adapt/nobackup/projects/ilab/projects/srlite/input/Howland/WV02_20160117_M1BS_10300100505E7E00-toa.tif'"
   ]
  },
  {
   "cell_type": "code",
   "execution_count": 5,
   "id": "ba0ea945-cad0-44e6-8d0d-9788cfa44af1",
   "metadata": {},
   "outputs": [],
   "source": [
    "#data_values = rxr.open_rasterio(data_filename).transpose(\"y\", \"x\", \"band\")\n",
    "#data_values.shape\n",
    "#plt.imshow(data_values[:, :, :3]/10000)\n",
    "#plt.show()"
   ]
  },
  {
   "cell_type": "markdown",
   "id": "9358e5e0-ae0c-4683-a472-61ae2b4e9eae",
   "metadata": {},
   "source": [
    "#GE01_20100310_M1BS_1050410004191E00-toa.cloudmask.tif\n",
    "#QB02_20030203_M1BS_10100100019B8700-toa.cloudmask.tif\n",
    "#GE01_20150621_M1BS_10504100130C2700-toa.cloudmask.tif\n",
    "#QB02_20050113_M1BS_101001000382CF00-toa.cloudmask.tif\n",
    "#GE01_20160531_M1BS_10500100049D6600-toa.cloudmask.tif\n",
    "#QB02_20050830_M1BS_10100100047C7100-toa.cloudmask.tif\n",
    "#GE01_20160531_M1BS_10500100049D6800-toa.cloudmask.tif\n",
    "#QB02_20051005_M1BS_1010010004912200-toa.cloudmask.tif\n",
    "#-----GE01_20160608_M1BS_1050010004BA6B00-toa.cloudmask.tif\n",
    "#QB02_20070211_M1BS_101001000578A400-toa.cloudmask.tif\n",
    "#GE01_20160608_M1BS_1050010004BA6D00-toa.cloudmask.tif\n",
    "#QB02_20070419_M1BS_1010010005952200-toa.cloudmask.tif\n",
    "#GE01_20210214_M1BS_10500100227B0500-toa.cloudmask.tif\n",
    "#QB02_20080408_M1BS_1010010007E4C300-toa.cloudmask.tif\n",
    "#QB02_20020606_M1BS_1010010000918F00-toa.cloudmask.tif"
   ]
  },
  {
   "cell_type": "code",
   "execution_count": 160,
   "id": "0774aae1-93c8-4e76-b1a2-52ed2a1b874d",
   "metadata": {},
   "outputs": [],
   "source": [
    "#input_filename = 'WV03_20180529_M1BS_104001003D032200-toa.cloudmask'\n",
    "input_filename = 'WV03_20160815_M1BS_104001002139C700-toa.cloudmask'"
   ]
  },
  {
   "cell_type": "code",
   "execution_count": 161,
   "id": "b96c8d17-a30e-453a-945d-65824970f148",
   "metadata": {},
   "outputs": [],
   "source": [
    "filename = f'/adapt/nobackup/projects/ilab/projects/CloudMask/products/srlite/v1/Siberia/{input_filename}.tif'\n",
    "#filename = f'/adapt/nobackup/projects/ilab/projects/CloudMask/products/srlite/v1.2/Siberia/{input_filename}.tif'\n",
    "#filename = f'/adapt/nobackup/projects/ilab/projects/CloudMask/products/srlite/v1.2/Howland/WV03_20180512_M1BS_104001003C325900-toacloudmask.tif'\n",
    "output_filename = f'/adapt/nobackup/projects/ilab/projects/CloudMask/products/srlite/v1.2/Siberia/{input_filename}.v1.2.tif'"
   ]
  },
  {
   "cell_type": "code",
   "execution_count": 162,
   "id": "fa23ff53-ad46-47b9-aa5f-32e5bf8c99e9",
   "metadata": {},
   "outputs": [
    {
     "name": "stdout",
     "output_type": "stream",
     "text": [
      "-9999.0\n"
     ]
    }
   ],
   "source": [
    "image = rxr.open_rasterio(filename)\n",
    "print(image.min().values)\n",
    "data = np.squeeze(image.copy().values)\n",
    "data[data < 0] = 0\n",
    "data[data > 0] = 0"
   ]
  },
  {
   "cell_type": "code",
   "execution_count": 163,
   "id": "84101873-508a-4f7f-af94-77e68573bb09",
   "metadata": {},
   "outputs": [],
   "source": [
    "#data[50000:, :] = 0"
   ]
  },
  {
   "cell_type": "code",
   "execution_count": 164,
   "id": "da572752-c730-4924-8580-6627b706505f",
   "metadata": {},
   "outputs": [],
   "source": [
    "#kernel = np.ones((15,15),np.uint8)\n",
    "#kernel = cv.getStructuringElement(cv.MORPH_ELLIPSE,(20,20))\n",
    "#data_array = cv.morphologyEx(data, cv.MORPH_OPEN, cv.getStructuringElement(cv.MORPH_ELLIPSE,(60,60)))#np.ones((50,50),np.uint8))\n",
    "#data_array = cv.morphologyEx(data_array, cv.MORPH_CLOSE, cv.getStructuringElement(cv.MORPH_ELLIPSE,(40,40)))#np.ones((10,10),np.uint8))\n",
    "#data_array = cv.dilate(data_array,np.ones((100,100),np.uint8),iterations = 1)\n",
    "#data_array = cv.dilate(data_array,cv.getStructuringElement(cv.MORPH_ELLIPSE,(50,50)), iterations = 1)\n",
    "#data_array = ndimage.median_filter(data_array, size=20)"
   ]
  },
  {
   "cell_type": "code",
   "execution_count": 165,
   "id": "fbeffad9-5c38-4388-89c9-9c768f040485",
   "metadata": {},
   "outputs": [],
   "source": [
    "#rasterio.open(filename).read(1)"
   ]
  },
  {
   "cell_type": "code",
   "execution_count": 166,
   "id": "130d5f06-5f52-4561-9e7f-f24e76d7561f",
   "metadata": {},
   "outputs": [],
   "source": [
    "#cupyx.scipy.ndimage.binary_closing(input, structure=None, iterations=1, output=None, origin=0, mask=None, border_value=0, brute_force=False)\n",
    "#import cupyx\n",
    "#import cupy"
   ]
  },
  {
   "cell_type": "code",
   "execution_count": 167,
   "id": "d8ce415f-2273-4985-b9e7-9d06ac225ec0",
   "metadata": {},
   "outputs": [
    {
     "data": {
      "image/png": "[encoded data removed]",
      "text/plain": [
       "<Figure size 432x288 with 1 Axes>"
      ]
     },
     "metadata": {
      "needs_background": "light"
     },
     "output_type": "display_data"
    }
   ],
   "source": [
    "plt.imshow(data, cmap='rainbow')\n",
    "plt.show()"
   ]
  },
  {
   "cell_type": "code",
   "execution_count": 168,
   "id": "b3f12a53-37c0-474b-9c78-f8957312053f",
   "metadata": {},
   "outputs": [],
   "source": [
    "#plt.imshow(data_array, cmap='rainbow')\n",
    "#plt.show()"
   ]
  },
  {
   "cell_type": "code",
   "execution_count": 169,
   "id": "e716874a-f295-4552-aea7-fdfcc23c28cb",
   "metadata": {},
   "outputs": [],
   "source": [
    "#data = data_array"
   ]
  },
  {
   "cell_type": "code",
   "execution_count": 170,
   "id": "3c1a78e5-e2df-43aa-992e-1ca5b122b0a7",
   "metadata": {},
   "outputs": [],
   "source": [
    "\n",
    "# Get metadata to save raster\n",
    "data = xr.DataArray(\n",
    "    np.expand_dims(data, axis=0), #-1\n",
    "    name='cloudmask',\n",
    "    coords=image.coords,\n",
    "    dims=image.dims,\n",
    "    attrs=image.attrs\n",
    ")\n",
    "data.attrs['long_name'] = ('cloudmask')\n",
    "#data = data.transpose(\"band\", \"y\", \"x\")\n",
    "\n",
    "# Set nodata values on mask\n",
    "nodata = image.rio.nodata\n",
    "data = data.where(image != nodata)\n",
    "\n",
    "data.rio.write_nodata(nodata, encoded=True, inplace=True)\n",
    "\n",
    "#data.min()\n",
    "\n",
    "# Save COG file to disk\n",
    "data.rio.to_raster(\n",
    "    output_filename, BIGTIFF=\"IF_SAFER\", compress='LZW',\n",
    "    num_threads='all_cpus')#, driver='COG')\n"
   ]
  },
  {
   "cell_type": "code",
   "execution_count": null,
   "id": "2a41a5c9-04f1-46c5-8653-a0aaa8377aa2",
   "metadata": {},
   "outputs": [],
   "source": []
  },
  {
   "cell_type": "code",
   "execution_count": null,
   "id": "40d8ad3c-a1c2-4e40-85da-43ddbbdeee21",
   "metadata": {},
   "outputs": [],
   "source": []
  }
 ],
 "metadata": {
  "kernelspec": {
   "display_name": "ilab-kernel",
   "language": "python",
   "name": "python3"
  },
  "language_info": {
   "codemirror_mode": {
    "name": "ipython",
    "version": 3
   },
   "file_extension": ".py",
   "mimetype": "text/x-python",
   "name": "python",
   "nbconvert_exporter": "python",
   "pygments_lexer": "ipython3",
   "version": "3.7.12"
  }
 },
 "nbformat": 4,
 "nbformat_minor": 5
}
